{
 "cells": [
  {
   "cell_type": "code",
   "execution_count": null,
   "id": "8034715a-2ebf-4841-b28c-4beb17087558",
   "metadata": {},
   "outputs": [],
   "source": [
    "import scipy.linalg as ln \n",
    "import numpy as np\n",
    "from underthesea import word_tokenize\n",
    "\n",
    "sentence = 'Tôi học. Tôi chơi' \n",
    "token = word_tokenize(sentence)\n",
    "# Tokenize câu search\n",
    "print('tokenization of sentences: ', token)"
   ]
  },
  {
   "cell_type": "code",
   "execution_count": 24,
   "id": "4a7a4672-fbfc-49f1-9710-8a164ccc1b3b",
   "metadata": {},
   "outputs": [
    {
     "data": {
      "text/plain": [
       "array([[0, 1, 1],\n",
       "       [0, 0, 0],\n",
       "       [0, 0, 0]])"
      ]
     },
     "execution_count": 24,
     "metadata": {},
     "output_type": "execute_result"
    }
   ],
   "source": [
    "from scipy.sparse import coo_matrix\n",
    "\n",
    "# Định nghĩa các vị trí có giá trị khác 0\n",
    "row = [0, 0]  # Hàng 0 có 2 phần tử khác 0\n",
    "col = [1, 2]  # Các cột tương ứng là 1 và 2\n",
    "data = [1, 1]  # Giá trị tại các vị trí này là 1\n",
    "\n",
    "# Tạo ma trận thưa và chuyển sang dạng đầy đủ (dense)\n",
    "X = coo_matrix((data, (row, col)), shape=(3, 3)).toarray()\n",
    "\n",
    "X"
   ]
  },
  {
   "cell_type": "code",
   "execution_count": 25,
   "id": "2db52a8c-47eb-451c-8f3f-34adb51bcb16",
   "metadata": {},
   "outputs": [
    {
     "name": "stdout",
     "output_type": "stream",
     "text": [
      "Ma trận U là [[1. 0. 0.]\n",
      " [0. 0. 1.]\n",
      " [0. 1. 0.]]\n",
      "Ma trận S là [ 1.41421356  0.         -0.        ]\n",
      "Ma trận VT là [[-0.          0.70710678  0.70710678]\n",
      " [ 0.         -0.70710678  0.70710678]\n",
      " [-1.         -0.         -0.        ]]\n"
     ]
    }
   ],
   "source": [
    "# Phân tích SVD\n",
    "U, S, VT = np.linalg.svd(X)\n",
    "\n",
    "print(\"Ma trận U là\", U)\n",
    "print(\"Ma trận S là\", S)\n",
    "print(\"Ma trận VT là\", VT)"
   ]
  },
  {
   "cell_type": "code",
   "execution_count": 26,
   "id": "e45738d0-2a4e-453d-b9d4-bff38aa750d4",
   "metadata": {},
   "outputs": [
    {
     "name": "stdout",
     "output_type": "stream",
     "text": [
      "S truncate: \n",
      " [[1.41421356 0.         0.        ]\n",
      " [0.         0.         0.        ]]\n",
      "Word Embedding 2 dimensionality: \n",
      " [[0. 1. 1.]\n",
      " [0. 0. 0.]]\n"
     ]
    }
   ],
   "source": [
    "S_truncate = np.zeros(shape = (2, 3))\n",
    "np.fill_diagonal(S_truncate, S[:2])\n",
    "print('S truncate: \\n', S_truncate)\n",
    "print('Word Embedding 2 dimensionality: \\n', np.dot(S_truncate, VT))"
   ]
  },
  {
   "cell_type": "code",
   "execution_count": null,
   "id": "e99f4426-87c2-4ffd-a986-2d0f2384cfbe",
   "metadata": {},
   "outputs": [],
   "source": []
  }
 ],
 "metadata": {
  "kernelspec": {
   "display_name": "Python 3 (ipykernel)",
   "language": "python",
   "name": "python3"
  },
  "language_info": {
   "codemirror_mode": {
    "name": "ipython",
    "version": 3
   },
   "file_extension": ".py",
   "mimetype": "text/x-python",
   "name": "python",
   "nbconvert_exporter": "python",
   "pygments_lexer": "ipython3",
   "version": "3.11.4"
  }
 },
 "nbformat": 4,
 "nbformat_minor": 5
}
